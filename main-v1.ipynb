{
 "cells": [
  {
   "cell_type": "code",
   "execution_count": null,
   "metadata": {},
   "outputs": [],
   "source": [
    "%matplotlib inline"
   ]
  },
  {
   "cell_type": "code",
   "execution_count": null,
   "metadata": {},
   "outputs": [],
   "source": [
    "import numpy as np\n",
    "# Option 1.1 channel_state: number of users\n",
    "# Option 1.2 channel_state: interference power"
   ]
  },
  {
   "cell_type": "code",
   "execution_count": null,
   "metadata": {},
   "outputs": [],
   "source": [
    "class Environment(object):\n",
    "    \"\"\"Currently no propogation effect is considered\"\"\"\n",
    "\n",
    "    def __init__(self, channel_num):\n",
    "        \"\"\"channel_num: number of RF channels in the environment\"\"\"\n",
    "        self.channel_state = [set() for i in range(channel_num)]\n",
    "        self.history = []\n",
    "        \n",
    "    def one_time_step(self):\n",
    "        self.history.append(self.channel_state)\n",
    "        self.channel_state = [set() for i in range(channel_num)]\n",
    "\n",
    "    def join(self, channel_index, agent):\n",
    "        self.channel_state[channel_index].add(agent)\n",
    "\n",
    "    def query(self, channel_index):\n",
    "        return self.history[-1][channel_index]\n",
    "\n",
    "    def report(self):\n",
    "        last_state = self.history[-1]\n",
    "        return [len(s) for s in last_state]\n",
    "\n",
    "    def get_reward(self):\n",
    "        # TODO Give success (1/task), conflict(-1/task)\n",
    "        # The instructor is the environment (receiver),\n",
    "        # which can evaluate how good the agent is doing by checksum.\n",
    "        # The reward message is passed over signaling channel.\n",
    "        # Since the frequent receiver to agent interaction wastes bandwidth,\n",
    "        # the agent can only get back reward after its tasks are all finished\n",
    "        # or the maximum time step is reached.\n",
    "        return"
   ]
  },
  {
   "cell_type": "code",
   "execution_count": null,
   "metadata": {
    "scrolled": true
   },
   "outputs": [],
   "source": [
    "e = Environment(10)\n",
    "a = Agent(10,10)"
   ]
  },
  {
   "cell_type": "code",
   "execution_count": null,
   "metadata": {},
   "outputs": [],
   "source": [
    "e.join(1,a)"
   ]
  },
  {
   "cell_type": "code",
   "execution_count": null,
   "metadata": {},
   "outputs": [],
   "source": [
    "a is e.channel_state[1].pop()"
   ]
  },
  {
   "cell_type": "code",
   "execution_count": null,
   "metadata": {},
   "outputs": [],
   "source": [
    "class Agent(object):\n",
    "\n",
    "    def __init__(self, task_num, channel_num):\n",
    "        \"\"\"task_num: number of task to be transmitted\"\"\"\n",
    "        self.task_num = task_num\n",
    "        self.channels = np.zeros(channel_num)\n",
    "        self.part_state = []\n",
    "        self.reward = 0\n",
    "\n",
    "    def one_time_step(self, env):\n",
    "        if self.task_num <= 0:\n",
    "            # TODO Calculate the final reward\n",
    "            self.reward += env.get_reward()\n",
    "        # TODO choose operations (transmit, expand, shrink, \n",
    "        # observe, rest, communicate) based on part_state\n",
    "        # Since we want to finish tasks as soon as possible\n",
    "        self.reward -= 1\n",
    "\n",
    "    def rest(self):\n",
    "        \"\"\"Do nothing\"\"\"\n",
    "        return\n",
    "    \n",
    "    def transmit(self):\n",
    "        \"\"\"Transmit using the established channels\"\"\"\n",
    "        for index in self.channels:\n",
    "            if self.task_num == 0:\n",
    "                env.join(index, self)\n",
    "                self.task_num -= 1\n",
    "\n",
    "    def expand(self, env, channel_index):\n",
    "        \"\"\"Establish a new channel by coordinate with receiver.\n",
    "        channel_index: the index of channel to occupy\"\"\"\n",
    "        if channel_index not in self.channels:\n",
    "            self.channels.add(channel_index)\n",
    "            # Since expand operation need signaling bandwidth to coordinate\n",
    "            self.reward -= 1\n",
    "\n",
    "    def shrink(self, env, channel_index):\n",
    "        \"\"\"Pull down a channel by coordinate with receiver.\n",
    "        channel_index: the index of channel to release\"\"\"\n",
    "        if channel_index in self.channels:\n",
    "            self.channels.remove(channel_index)\n",
    "            # Shrink operation need signaling bandwidth to coordinate (-1)\n",
    "            # Shring operation save resource in agent and receiver (+2)\n",
    "            self.reward += 1\n",
    "\n",
    "    def observe(self, env):\n",
    "        \"\"\"Observe the channel usage\"\"\"\n",
    "        self.part_state.append(env.report()) \n",
    "        # Since observe operation need energy to detect occupancy\n",
    "        # TODO find the channel with highest availability\n",
    "        self.reward -= 0.2\n",
    "        \n",
    "    def identify(self, env, channel_index):\n",
    "        \"\"\"Find the agent occupying the channel by identifying the signal\"\"\"\n",
    "        # Since identify signal need energy\n",
    "        self.reward -= 1\n",
    "        return env.query(channel_index)\n",
    "\n",
    "    def communicate(self):        \n",
    "        # Since communicate operation need signaling bandwidth to coordinate two group\n",
    "        # TODO How to communicate efficiently, since the cost is high\n",
    "        # TODO Provide how many tasks left and self.reward\n",
    "        # TODO Provide a score or loss (above is one possible metric)\n",
    "        # TODO Need to add constrict over score to avoid malicious deception\n",
    "        # TODO 可能手段：（1）入网审查，（2）持续检测加入时间和后续发送数量\n",
    "        self.reward -= 2\n",
    "    \n",
    "    def report(self):\n",
    "        return self.task_num, self.channels\n",
    "\n",
    "    def reward(self, env):\n",
    "        # TODO Try to get back reward from environment (receiver)\n",
    "        return"
   ]
  }
 ],
 "metadata": {
  "kernelspec": {
   "display_name": "Python fastaiv1py37",
   "language": "python",
   "name": "fastaiv1py37"
  },
  "language_info": {
   "codemirror_mode": {
    "name": "ipython",
    "version": 3
   },
   "file_extension": ".py",
   "mimetype": "text/x-python",
   "name": "python",
   "nbconvert_exporter": "python",
   "pygments_lexer": "ipython3",
   "version": "3.7.2"
  }
 },
 "nbformat": 4,
 "nbformat_minor": 2
}
